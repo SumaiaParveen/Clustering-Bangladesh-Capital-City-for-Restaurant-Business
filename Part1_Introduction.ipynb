{
 "cells": [
  {
   "cell_type": "markdown",
   "metadata": {},
   "source": [
    "<h1 align=center><font size = 5>Introduction: Clustreing Dhaka Neighborhoods for a Restaurant Business</font></h1>"
   ]
  },
  {
   "cell_type": "markdown",
   "metadata": {},
   "source": [
    "\n",
    "### Background\n",
    "\n",
    "Bangladeshis are known to be great food enthusiasts for decades. Going out to dine with families and friends has become a part of people’s daily life. People are inclining to try out foods from different countries day by day. Food delivery services evolved dramatically over the last couple of years. The food review YouTube channels are viewed the most in Bangladesh. \n",
    "\n",
    "Moreover, busy consumers don't have the opportunity or tendency to cook. They want the flavor of fresh food without the hassle of cooking. They want spicy, tasty, nutritious meals without dishes to wash. An increasing number of students, working parents, and elderly individuals prefer prominent convenience when it comes to purchasing their meals. The need for food-service businesses is increasing gradually with the improvement in the socio-economic condition of the country. Thus, it would be advantageous if we can predict the criteria that would help us to make a profit from a food-service business based in Bangladesh.\n",
    "\n",
    "5 kinds of food-service businesses are most prevalent in Bangladesh based on the amount of investment.\n",
    " \n",
    "1. Quick Service Restaurants QSR\n",
    "2. Casual Dine Restaurants\n",
    "3. Food Trucks\n",
    "4. Cloud Kitchens\n",
    "5. Raw food business"
   ]
  },
  {
   "cell_type": "markdown",
   "metadata": {},
   "source": [
    "### Business Problem \n",
    " \n",
    "The basis of this study is to help a small group of investors who want to open their first restaurant in the Dhaka division in Bangladesh. Although Bangladesh is a relatively small yet densely populated country, her socio-economic standard is only improving every year. Lifestyle is changing fast in major cities like Dhaka. People are more prone to buy ready-foods instead of spending time to prepare them at home. The business is already competitive; hence a strategic plan is required. We can phrase the business problem like this- **“Where to Open Our First Restaurant in Dhaka, Bangladesh?”**\n"
   ]
  },
  {
   "cell_type": "markdown",
   "metadata": {},
   "source": [
    "### Interested Audience\n",
    " \n",
    "What type of clients or a group of people would be interested in this project?\n",
    "\n",
    "• Business personnel or a group of investors who wants to invest or open a restaurant. This analysis will be a comprehensive guide to start or expand restaurants targeting a large pool of students, busy workers, and working parents in Bangladesh.\n",
    "\n",
    "• Freelancer who would love to have their restaurant or cloud kitchen as a side business. This analysis will give an idea of where the business will encounter less competition.\n",
    "\n",
    "• Data Science Enthusiasts, who want to implement some of the most used Exploratory Data Analysis techniques to obtain necessary data, analyze it, and, finally be able to tell a story out of it.\n",
    "\n"
   ]
  }
 ],
 "metadata": {
  "kernelspec": {
   "display_name": "Python 3",
   "language": "python",
   "name": "python3"
  },
  "language_info": {
   "codemirror_mode": {
    "name": "ipython",
    "version": 3
   },
   "file_extension": ".py",
   "mimetype": "text/x-python",
   "name": "python",
   "nbconvert_exporter": "python",
   "pygments_lexer": "ipython3",
   "version": "3.7.6"
  },
  "widgets": {
   "state": {},
   "version": "1.1.2"
  }
 },
 "nbformat": 4,
 "nbformat_minor": 4
}
